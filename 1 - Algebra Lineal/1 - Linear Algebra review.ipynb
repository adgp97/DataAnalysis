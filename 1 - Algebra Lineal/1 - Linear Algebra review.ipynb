{
 "cells": [
  {
   "cell_type": "markdown",
   "metadata": {},
   "source": [
    "# Linear Algebra review"
   ]
  },
  {
   "cell_type": "code",
   "execution_count": 1,
   "metadata": {},
   "outputs": [],
   "source": [
    "import numpy as np"
   ]
  },
  {
   "cell_type": "markdown",
   "metadata": {},
   "source": [
    "## Defining matrices and vectors\n"
   ]
  },
  {
   "cell_type": "code",
   "execution_count": 6,
   "metadata": {},
   "outputs": [
    {
     "name": "stdout",
     "output_type": "stream",
     "text": [
      "[[1 2 3]\n",
      " [1 1 2]\n",
      " [0 1 2]]\n"
     ]
    }
   ],
   "source": [
    "# Every row is a list. Rows are separeted with commas inside another list.\n",
    "matrix = np.array([[1,2,3], \n",
    "                   [1,1,2], \n",
    "                   [0,1,2]])\n",
    "print(matrix)"
   ]
  },
  {
   "cell_type": "code",
   "execution_count": 8,
   "metadata": {},
   "outputs": [
    {
     "name": "stdout",
     "output_type": "stream",
     "text": [
      "[[1 2 3 4]]\n"
     ]
    }
   ],
   "source": [
    "# A row vector is a list containing only one list with several elements\n",
    "rowVec = np.array([[1, 2, 3, 4]])\n",
    "print(rowVec)"
   ]
  },
  {
   "cell_type": "code",
   "execution_count": 12,
   "metadata": {},
   "outputs": [
    {
     "name": "stdout",
     "output_type": "stream",
     "text": [
      "[[1]\n",
      " [2]\n",
      " [3]\n",
      " [4]]\n"
     ]
    }
   ],
   "source": [
    "# A column vector is a list containing several lists with a single element\n",
    "colVec = np.array([[1],\n",
    "                   [2],\n",
    "                   [3],\n",
    "                   [4]])\n",
    "print(colVec)"
   ]
  },
  {
   "cell_type": "markdown",
   "metadata": {},
   "source": [
    "## Transpose"
   ]
  },
  {
   "cell_type": "code",
   "execution_count": 13,
   "metadata": {},
   "outputs": [
    {
     "name": "stdout",
     "output_type": "stream",
     "text": [
      "[[1 1 0]\n",
      " [2 1 1]\n",
      " [3 2 2]]\n",
      "[[1]\n",
      " [2]\n",
      " [3]\n",
      " [4]]\n",
      "[[1 2 3 4]]\n"
     ]
    }
   ],
   "source": [
    "# Use attribute .T\n",
    "\n",
    "print(matrix.T)\n",
    "print(rowVec.T)\n",
    "print(colVec.T)"
   ]
  },
  {
   "cell_type": "markdown",
   "metadata": {},
   "source": [
    "## Arithmetic operations\n",
    "\n",
    "Arithmetic operations like +, -, /, * and ** are performed elementwise\n",
    "\n",
    "<p align=\"justify\">\n",
    "Special operations:\n",
    "<ul>\n",
    "    <li>Matrix multiplication: matrix1 @ matrix2, assuming it is well defined</li>\n",
    "    <li>Dot product: use .dot() method. For example, dot product between u and v, do v.dot(u). If u and v are both col or row vec, one has to be transposed before calling the method</li>\n",
    "    <li>Cross product: use np.cross(v1,v2) and make sure the vectors are rows</li>\n",
    "\n",
    "</ul>\n",
    "</p>"
   ]
  },
  {
   "cell_type": "code",
   "execution_count": 16,
   "metadata": {},
   "outputs": [
    {
     "name": "stdout",
     "output_type": "stream",
     "text": [
      "[[2 3 3]\n",
      " [3 2 3]\n",
      " [3 3 4]]\n"
     ]
    }
   ],
   "source": [
    "print(matrix + matrix.T)"
   ]
  },
  {
   "cell_type": "code",
   "execution_count": 17,
   "metadata": {},
   "outputs": [
    {
     "name": "stdout",
     "output_type": "stream",
     "text": [
      "[[1 2 0]\n",
      " [2 1 2]\n",
      " [0 2 4]]\n"
     ]
    }
   ],
   "source": [
    "# Elementwise product\n",
    "\n",
    "print(matrix*matrix.T)"
   ]
  },
  {
   "cell_type": "code",
   "execution_count": 22,
   "metadata": {},
   "outputs": [
    {
     "name": "stdout",
     "output_type": "stream",
     "text": [
      "[[2 1 4]\n",
      " [1 1 2]\n",
      " [4 2 8]]\n",
      "[[5 5]\n",
      " [5 6]]\n"
     ]
    }
   ],
   "source": [
    "B = np.array([[1,1],\n",
    "              [0,1],\n",
    "              [2,2]])\n",
    "# Matrix multiplication\n",
    "print(B @ B.T)\n",
    "print(B.T @ B)"
   ]
  },
  {
   "cell_type": "markdown",
   "metadata": {},
   "source": [
    "## Determinat"
   ]
  },
  {
   "cell_type": "code",
   "execution_count": 26,
   "metadata": {},
   "outputs": [
    {
     "name": "stdout",
     "output_type": "stream",
     "text": [
      "-1.0\n"
     ]
    }
   ],
   "source": [
    "print(np.linalg.det(matrix))"
   ]
  },
  {
   "cell_type": "markdown",
   "metadata": {},
   "source": [
    "## Trace"
   ]
  },
  {
   "cell_type": "code",
   "execution_count": 27,
   "metadata": {},
   "outputs": [
    {
     "name": "stdout",
     "output_type": "stream",
     "text": [
      "4\n"
     ]
    }
   ],
   "source": [
    "print(np.trace(matrix))"
   ]
  },
  {
   "cell_type": "markdown",
   "metadata": {},
   "source": [
    "## Inverse"
   ]
  },
  {
   "cell_type": "code",
   "execution_count": 28,
   "metadata": {},
   "outputs": [
    {
     "name": "stdout",
     "output_type": "stream",
     "text": [
      "[[ 0.  1. -1.]\n",
      " [ 2. -2. -1.]\n",
      " [-1.  1.  1.]]\n"
     ]
    }
   ],
   "source": [
    "print(np.linalg.inv(matrix))"
   ]
  },
  {
   "cell_type": "markdown",
   "metadata": {},
   "source": [
    "## Ejemplo 1: dada una matriz A, calcular A'A, su determinante y su traza. Reptir para AA'"
   ]
  },
  {
   "cell_type": "code",
   "execution_count": 33,
   "metadata": {},
   "outputs": [
    {
     "name": "stdout",
     "output_type": "stream",
     "text": [
      "Resultados de A'A: \n",
      "Producto: \n",
      " [[5 5]\n",
      " [5 6]] \n",
      "Determinante:  4.999999999999999 \n",
      "Traza:  11\n",
      "Resultados de AA': \n",
      "Producto: \n",
      " [[2 1 4]\n",
      " [1 1 2]\n",
      " [4 2 8]] \n",
      "Determinante:  0.0 \n",
      "Traza:  11\n"
     ]
    }
   ],
   "source": [
    "A = np.array([[1,1],\n",
    "              [0,1],\n",
    "              [2,2]])\n",
    "\n",
    "res1 = A.T @ A\n",
    "det1 = np.linalg.det(res1)\n",
    "tra1 = np.trace(res1)\n",
    "print('Resultados de A\\'A: \\nProducto: \\n', res1, '\\nDeterminante: ', det1, '\\nTraza: ', tra1)\n",
    "\n",
    "\n",
    "res2 = A @ A.T\n",
    "det2 = np.linalg.det(res2)\n",
    "tra2 = np.trace(res2)\n",
    "print('Resultados de AA\\': \\nProducto: \\n', res2, '\\nDeterminante: ', det2, '\\nTraza: ', tra2)"
   ]
  },
  {
   "cell_type": "markdown",
   "metadata": {},
   "source": [
    "## Ejemplo 2: Hallar la inversa de una matriz"
   ]
  },
  {
   "cell_type": "code",
   "execution_count": 35,
   "metadata": {},
   "outputs": [
    {
     "name": "stdout",
     "output_type": "stream",
     "text": [
      "[[ 0.  1. -1.]\n",
      " [ 2. -2. -1.]\n",
      " [-1.  1.  1.]]\n"
     ]
    }
   ],
   "source": [
    "Mat = np.array([[1,2,3],\n",
    "              [1,1,2],\n",
    "              [0,1,2]])\n",
    "inv = np.linalg.inv(Mat)\n",
    "print(inv)"
   ]
  },
  {
   "cell_type": "markdown",
   "metadata": {},
   "source": [
    "## Eigenvalues and eigenvectors"
   ]
  },
  {
   "cell_type": "code",
   "execution_count": 48,
   "metadata": {},
   "outputs": [
    {
     "name": "stdout",
     "output_type": "stream",
     "text": [
      "Eigenvalues: \n",
      " [-0.37720285  0.72610945  3.65109341] \n",
      "Eigenvectors: \n",
      " [[ 0.44287099  0.71390288  0.7763    ]\n",
      " [-0.82644005  0.5508072   0.53918151]\n",
      " [ 0.34765231 -0.43238189  0.32656027]]\n"
     ]
    }
   ],
   "source": [
    "eigVal, eigVec = np.linalg.eig(Mat)\n",
    "print('Eigenvalues: \\n', eigVal, '\\nEigenvectors: \\n', eigVec)"
   ]
  },
  {
   "cell_type": "markdown",
   "metadata": {},
   "source": [
    "## Ejemplo 3: Calcular los vectores y valores propios de una matriz"
   ]
  },
  {
   "cell_type": "code",
   "execution_count": 47,
   "metadata": {},
   "outputs": [
    {
     "name": "stdout",
     "output_type": "stream",
     "text": [
      "Eigenvalues: \n",
      " [3. 1.] \n",
      "Eigenvectors: \n",
      " [[ 0.70710678 -0.70710678]\n",
      " [ 0.70710678  0.70710678]]\n"
     ]
    }
   ],
   "source": [
    "A = np.array([[2,1],\n",
    "              [1,2]])\n",
    "eigVal, eigVec = np.linalg.eig(A)\n",
    "print('Eigenvalues: \\n', eigVal, '\\nEigenvectors: \\n', eigVec)"
   ]
  },
  {
   "cell_type": "code",
   "execution_count": null,
   "metadata": {},
   "outputs": [],
   "source": []
  }
 ],
 "metadata": {
  "kernelspec": {
   "display_name": "Python 3",
   "language": "python",
   "name": "python3"
  },
  "language_info": {
   "codemirror_mode": {
    "name": "ipython",
    "version": 3
   },
   "file_extension": ".py",
   "mimetype": "text/x-python",
   "name": "python",
   "nbconvert_exporter": "python",
   "pygments_lexer": "ipython3",
   "version": "3.7.4"
  }
 },
 "nbformat": 4,
 "nbformat_minor": 2
}
